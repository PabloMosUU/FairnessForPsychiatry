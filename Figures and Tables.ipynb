{
 "cells": [
  {
   "cell_type": "code",
   "execution_count": null,
   "metadata": {},
   "outputs": [],
   "source": [
    "import pandas as pd"
   ]
  },
  {
   "cell_type": "code",
   "execution_count": null,
   "metadata": {},
   "outputs": [],
   "source": [
    "DATA_DIR = '/media/bigdata/10. Stages/3. Afgerond/2020-08 Jesse Kuiper/'"
   ]
  },
  {
   "cell_type": "code",
   "execution_count": null,
   "metadata": {},
   "outputs": [],
   "source": [
    "### Table: conversion from tranquilizers to diazepam\n",
    "tranq_diazepam = pd.read_csv('TranquilizerDiazepamFactor.csv', sep=';')\n",
    "tranq_diazepam = {k.capitalize():v for k,v in tranq_diazepam[['tranquilizer', 'factor']].values}"
   ]
  },
  {
   "cell_type": "code",
   "execution_count": null,
   "metadata": {},
   "outputs": [],
   "source": [
    "tranquilizers = ['Diazepam'] + sorted([el for el in tranq_diazepam.keys() if el != 'Diazepam'])\n",
    "for k in tranquilizers:\n",
    "    v = tranq_diazepam[k]\n",
    "    print(k, ' & ', v, ' & ', '{:.2f}'.format(1/v), ' \\\\\\\\')"
   ]
  },
  {
   "cell_type": "code",
   "execution_count": null,
   "metadata": {},
   "outputs": [],
   "source": [
    "### Table: final list of variables\n",
    "df = pd.read_csv(DATA_DIR + 'Dataset14Days.csv')"
   ]
  },
  {
   "cell_type": "code",
   "execution_count": null,
   "metadata": {},
   "outputs": [],
   "source": [
    "col_type = {col: 'Binary' if df[col].nunique() <= 2 else 'Numeric' for col in df.columns}"
   ]
  },
  {
   "cell_type": "code",
   "execution_count": null,
   "metadata": {},
   "outputs": [],
   "source": [
    "col_eng = {\n",
    "    'PseudoID': 'Patient ID',\n",
    "    'Spoed': 'Emergency',\n",
    "    'EersteOpname': 'First admission',\n",
    "    'Geslacht': 'Gender',\n",
    "    'Leeftijd_opname': 'Age at admission',\n",
    "    'Duur': 'Duration in days',\n",
    "    'Leeftijd_startdatum_dossier': 'Age at start of dossier',\n",
    "    'incidents_during_admission': 'Incidents during admission',\n",
    "    'incidents_before_admission': 'Incidents before admission',\n",
    "    'MeervoudigeProblematiekInd': 'Multiple problem',\n",
    "    'persoonlijkheidsstoornis': 'Personality disorder',\n",
    "    'ZorgvraagzwaarteMin': 'Minimum level of care demand',\n",
    "    'ZorgvraagzwaarteMax': 'Maximum level of care demand',\n",
    "    'DoseDiazepamPre': 'Past diazepam-equivalent dose',\n",
    "    'DoseDiazepamPost': 'Future diazepam-equivalent dose',\n",
    "    'Klin. Affectieve & Psychotische stoorn.': 'Nursing ward: Clinical Affective & Psychotic Disorders',\n",
    "    'Klinische Acuut & Intensieve Zorg': 'Nursing ward: Clinical Acute & Intensive Care',\n",
    "    'Klin.Acuut & Intensieve. Zorg Jeugd': 'Nursing ward: Clinical Acute & Intensive Care Youth',\n",
    "    'Klin Diagn & Vroege Psychose': 'Nursing ward: Clinical Diagnosis & Early Psychosis',\n",
    "    'Aandachtsstoornis': 'Diagnosis: Attention Deficit Disorder',\n",
    "    'Andere problemen die een reden van zorg kunnen zijn': 'Diagnosis: Other issues that may be a cause for concern',\n",
    "    'Angststoornissen': 'Diagnosis: Anxiety disorders',\n",
    "    'Autismespectrumstoornis': 'Diagnosis: Autism spectrum disorder',\n",
    "    'Bipolaire stoornissen': 'Diagnosis: Bipolar Disorders',\n",
    "    'Cognitieve stoornissen': 'Diagnosis: Cognitive disorders',\n",
    "    'Depressieve stoornissen': 'Diagnosis: Depressive Disorders',\n",
    "    'Dissociatieve stoornissen': 'Diagnosis: Dissociative Disorders',\n",
    "    'Gedragsstoornissen': 'Diagnosis: Behavioral disorders',\n",
    "    'Middelgerelateerde en verslavingsstoornissen': 'Diagnosis: Substance-Related and Addiction Disorders',\n",
    "    'Obsessieve-compulsieve en verwante stoornissen': 'Diagnosis: Obsessive Compulsive and Related Disorders',\n",
    "    'Overige psychische stoornissen': 'Diagnosis: Other mental disorders',\n",
    "    'Overige stoornissen op zuigelingen of kinderleeftijd': 'Diagnosis: Overige stoornissen op zuigelingen of kinderleeftijd',\n",
    "    'Persoonlijkheidsstoornissen': 'Diagnosis: Personality Disorders',\n",
    "    'Psychische stoornissen door een somatische aandoening': 'Diagnosis: Psychiatric disorders due to a general medical condition',\n",
    "    'Schizofrenie en andere psychotische stoornissen': 'Diagnosis: Schizophrenia and other psychotic disorders',\n",
    "    'Somatisch-symptoomstoornis en verwante stoornissen': 'Diagnosis: Somatic Symptom Disorder and Related Disorders',\n",
    "    'Trauma- en stressorgerelateerde stoornissen': 'Diagnosis: Trauma- and stressor-related disorders',\n",
    "    'Voedings- en eetstoornissen': 'Diagnosis: Nutrition and Eating Disorders'\n",
    "}"
   ]
  },
  {
   "cell_type": "code",
   "execution_count": null,
   "metadata": {},
   "outputs": [],
   "source": [
    "for k,v in col_eng.items():\n",
    "    print(v.replace('&', '\\\\&'), ' & ', col_type[k], ' \\\\\\\\')"
   ]
  },
  {
   "cell_type": "code",
   "execution_count": null,
   "metadata": {},
   "outputs": [],
   "source": []
  }
 ],
 "metadata": {
  "kernelspec": {
   "display_name": "Python 3",
   "language": "python",
   "name": "python3"
  },
  "language_info": {
   "codemirror_mode": {
    "name": "ipython",
    "version": 3
   },
   "file_extension": ".py",
   "mimetype": "text/x-python",
   "name": "python",
   "nbconvert_exporter": "python",
   "pygments_lexer": "ipython3",
   "version": "3.6.13"
  }
 },
 "nbformat": 4,
 "nbformat_minor": 4
}
